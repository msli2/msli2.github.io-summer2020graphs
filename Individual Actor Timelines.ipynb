{
 "cells": [
  {
   "cell_type": "code",
   "execution_count": 22,
   "metadata": {},
   "outputs": [
    {
     "name": "stdout",
     "output_type": "stream",
     "text": [
      "41567\n"
     ]
    }
   ],
   "source": [
    "import pandas as pd\n",
    "import numpy as np\n",
    "\n",
    "df = pd.read_csv(\"films.csv\")\n",
    "df_genders = pd.read_csv(\"actorCount.csv\")\n",
    "df_years = pd.read_csv(\"alldirectors.csv\")\n",
    "\n",
    "directors = df[\"director\"].tolist()\n",
    "actors = df[\"actor\"].tolist()\n",
    "genders = df[\"gender\"].tolist()\n",
    "films = df[\"film\"].tolist()\n",
    "\n",
    "films2 = df_years[\"film\"].tolist()\n",
    "years = df_years[\"year\"].tolist()\n",
    "\n",
    "film = df_genders[\"film\"].tolist()\n",
    "director = df_genders[\"director\"].tolist()\n",
    "male = df_genders[\"maleactors\"].tolist()\n",
    "female = df_genders[\"femaleactors\"].tolist()\n",
    "\n",
    "filmsyears = {}\n",
    "for i in range(len(films2)):\n",
    "    if (films2[i] not in filmsyears):\n",
    "        filmsyears.update({films2[i]: years[i]})\n",
    "        \n",
    "filmcounts = {}\n",
    "for i in range(len(film)):\n",
    "    if ((film[i], director[i]) not in filmcounts):\n",
    "        filmcounts.update({(film[i], director[i]): (male[i], female[i])})\n",
    "\n",
    "actorgender = {}\n",
    "actorfilms = {}\n",
    "for i in range(len(actors)):\n",
    "    if (actors[i] not in actorgender):\n",
    "        actorgender.update({actors[i]: genders[i]})\n",
    "        \n",
    "for i in range(len(actors)):\n",
    "    if (actors[i] not in actorfilms):\n",
    "        for key in filmsyears.keys():\n",
    "            if (key == films[i]):\n",
    "                actorfilms.update({actors[i]: [(films[i], directors[i], filmsyears[key])]})\n",
    "                break;\n",
    "    else:\n",
    "        for key in filmsyears.keys():\n",
    "            if (key == films[i]):\n",
    "                actorfilms[actors[i]].append((films[i], directors[i], filmsyears[key]))\n",
    "                break;\n",
    "\n",
    "actorCol = []\n",
    "genderCol = []\n",
    "filmCol = []\n",
    "directorCol = []\n",
    "yearCol = []\n",
    "maleCol = []\n",
    "femaleCol = []\n",
    "for key in actorfilms.keys():\n",
    "    for i in range(len(actorfilms[key])):\n",
    "        actorCol.append(key)\n",
    "        filmCol.append(actorfilms[key][i][0])\n",
    "        directorCol.append(actorfilms[key][i][1])\n",
    "        yearCol.append(actorfilms[key][i][2])\n",
    "        for genderkey in actorgender.keys():\n",
    "            if (genderkey == key):\n",
    "                genderCol.append(actorgender[genderkey])\n",
    "        for actorkey in filmcounts.keys():\n",
    "            if ((actorfilms[key][i][0], actorfilms[key][i][1]) == actorkey):\n",
    "                maleCol.append(filmcounts[actorkey][0])\n",
    "                femaleCol.append(filmcounts[actorkey][1])\n",
    "\n",
    "print(len(actorCol))\n",
    "\n",
    "# actortimeline_df = pd.DataFrame(data = actorCol)\n",
    "# actortimeline_df[\"gender\"] = genderCol\n",
    "# actortimeline_df[\"film\"] = filmCol\n",
    "# actortimeline_df[\"director\"] = directorCol\n",
    "# actortimeline_df[\"year\"] = yearCol\n",
    "# # actortimeline_df[\"maleactors\"] = maleCol\n",
    "# # actortimeline_df[\"femaleactors\"] = femaleCol\n",
    "\n",
    "# print(actortimeline_df)\n",
    "# actortimeline_df.to_csv ('actortimelines.csv', index = False, header=False)"
   ]
  },
  {
   "cell_type": "code",
   "execution_count": null,
   "metadata": {},
   "outputs": [],
   "source": []
  }
 ],
 "metadata": {
  "kernelspec": {
   "display_name": "Python 3",
   "language": "python",
   "name": "python3"
  },
  "language_info": {
   "codemirror_mode": {
    "name": "ipython",
    "version": 3
   },
   "file_extension": ".py",
   "mimetype": "text/x-python",
   "name": "python",
   "nbconvert_exporter": "python",
   "pygments_lexer": "ipython3",
   "version": "3.7.7"
  }
 },
 "nbformat": 4,
 "nbformat_minor": 4
}
